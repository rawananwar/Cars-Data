{
  "metadata": {
    "kernelspec": {
      "language": "python",
      "display_name": "Python 3",
      "name": "python3"
    },
    "language_info": {
      "pygments_lexer": "ipython3",
      "nbconvert_exporter": "python",
      "version": "3.6.4",
      "file_extension": ".py",
      "codemirror_mode": {
        "name": "ipython",
        "version": 3
      },
      "name": "python",
      "mimetype": "text/x-python"
    },
    "kaggle": {
      "accelerator": "none",
      "dataSources": [
        {
          "sourceId": 4207452,
          "sourceType": "datasetVersion",
          "datasetId": 2480416
        }
      ],
      "dockerImageVersionId": 30235,
      "isInternetEnabled": false,
      "language": "python",
      "sourceType": "notebook",
      "isGpuEnabled": false
    },
    "colab": {
      "provenance": []
    }
  },
  "nbformat_minor": 0,
  "nbformat": 4,
  "cells": [
    {
      "cell_type": "code",
      "source": [
        "# Importing libraries\n",
        "import numpy as np\n",
        "import pandas as pd\n",
        "import matplotlib.pyplot as plt\n",
        "import seaborn as sns\n",
        "from sklearn.model_selection import train_test_split\n",
        "from sklearn.linear_model import LinearRegression\n",
        "from sklearn import metrics\n",
        "from sklearn import preprocessing\n",
        "# Cross Validation\n",
        "from sklearn.model_selection import KFold\n",
        "from sklearn.model_selection import cross_val_score"
      ],
      "metadata": {
        "execution": {
          "iopub.status.busy": "2022-09-15T11:01:17.795141Z",
          "iopub.execute_input": "2022-09-15T11:01:17.796272Z",
          "iopub.status.idle": "2022-09-15T11:01:19.526092Z",
          "shell.execute_reply.started": "2022-09-15T11:01:17.796128Z",
          "shell.execute_reply": "2022-09-15T11:01:19.524903Z"
        },
        "trusted": true,
        "id": "66cjcyqMDXjg"
      },
      "execution_count": null,
      "outputs": []
    },
    {
      "cell_type": "code",
      "source": [
        "import warnings\n",
        "warnings.simplefilter(\"ignore\")\n",
        "plt.style.use('seaborn')"
      ],
      "metadata": {
        "execution": {
          "iopub.status.busy": "2022-09-15T11:01:19.528436Z",
          "iopub.execute_input": "2022-09-15T11:01:19.528907Z",
          "iopub.status.idle": "2022-09-15T11:01:19.536555Z",
          "shell.execute_reply.started": "2022-09-15T11:01:19.528854Z",
          "shell.execute_reply": "2022-09-15T11:01:19.533759Z"
        },
        "trusted": true,
        "id": "MDR17bq7DXjh"
      },
      "execution_count": null,
      "outputs": []
    },
    {
      "cell_type": "code",
      "source": [
        "# Making data frame from csv\n",
        "data = pd.read_csv('../input/car-dataset/cardata.csv')\n",
        "df = pd.DataFrame(data)\n",
        "df"
      ],
      "metadata": {
        "execution": {
          "iopub.status.busy": "2022-09-15T11:01:19.538166Z",
          "iopub.execute_input": "2022-09-15T11:01:19.538777Z",
          "iopub.status.idle": "2022-09-15T11:01:19.599995Z",
          "shell.execute_reply.started": "2022-09-15T11:01:19.53868Z",
          "shell.execute_reply": "2022-09-15T11:01:19.598706Z"
        },
        "trusted": true,
        "id": "1Lg1Vje5DXji"
      },
      "execution_count": null,
      "outputs": []
    },
    {
      "cell_type": "code",
      "source": [
        "# to print the full summary\n",
        "df.info()"
      ],
      "metadata": {
        "execution": {
          "iopub.status.busy": "2022-09-15T11:01:19.603783Z",
          "iopub.execute_input": "2022-09-15T11:01:19.604662Z",
          "iopub.status.idle": "2022-09-15T11:01:19.634826Z",
          "shell.execute_reply.started": "2022-09-15T11:01:19.604612Z",
          "shell.execute_reply": "2022-09-15T11:01:19.63341Z"
        },
        "trusted": true,
        "id": "AS9CurXSDXji"
      },
      "execution_count": null,
      "outputs": []
    },
    {
      "cell_type": "code",
      "source": [
        "# to return the shape\n",
        "df.shape"
      ],
      "metadata": {
        "execution": {
          "iopub.status.busy": "2022-09-15T11:01:19.636477Z",
          "iopub.execute_input": "2022-09-15T11:01:19.636984Z",
          "iopub.status.idle": "2022-09-15T11:01:19.648094Z",
          "shell.execute_reply.started": "2022-09-15T11:01:19.636931Z",
          "shell.execute_reply": "2022-09-15T11:01:19.646972Z"
        },
        "trusted": true,
        "id": "5xfcTlRSDXji"
      },
      "execution_count": null,
      "outputs": []
    },
    {
      "cell_type": "code",
      "source": [
        "# getting summaries of all columns\n",
        "df.describe(include = 'all')"
      ],
      "metadata": {
        "execution": {
          "iopub.status.busy": "2022-09-15T11:01:19.649629Z",
          "iopub.execute_input": "2022-09-15T11:01:19.650539Z",
          "iopub.status.idle": "2022-09-15T11:01:19.699335Z",
          "shell.execute_reply.started": "2022-09-15T11:01:19.650463Z",
          "shell.execute_reply": "2022-09-15T11:01:19.697544Z"
        },
        "trusted": true,
        "id": "qw0YRtD1DXjj"
      },
      "execution_count": null,
      "outputs": []
    },
    {
      "cell_type": "code",
      "source": [
        "# getting summaries of only numeric columns\n",
        "df.describe()"
      ],
      "metadata": {
        "execution": {
          "iopub.status.busy": "2022-09-15T11:01:19.701088Z",
          "iopub.execute_input": "2022-09-15T11:01:19.702362Z",
          "iopub.status.idle": "2022-09-15T11:01:19.742092Z",
          "shell.execute_reply.started": "2022-09-15T11:01:19.702255Z",
          "shell.execute_reply": "2022-09-15T11:01:19.740462Z"
        },
        "trusted": true,
        "id": "_JYA28OeDXjj"
      },
      "execution_count": null,
      "outputs": []
    },
    {
      "cell_type": "code",
      "source": [
        "# getting summaries of only object columns\n",
        "df.describe(include = 'object')"
      ],
      "metadata": {
        "execution": {
          "iopub.status.busy": "2022-09-15T11:01:19.743971Z",
          "iopub.execute_input": "2022-09-15T11:01:19.745348Z",
          "iopub.status.idle": "2022-09-15T11:01:19.770632Z",
          "shell.execute_reply.started": "2022-09-15T11:01:19.745269Z",
          "shell.execute_reply": "2022-09-15T11:01:19.769209Z"
        },
        "trusted": true,
        "id": "CnWhxVFUDXjj"
      },
      "execution_count": null,
      "outputs": []
    },
    {
      "cell_type": "code",
      "source": [
        "# to detect missing values\n",
        "df.isnull().sum()"
      ],
      "metadata": {
        "execution": {
          "iopub.status.busy": "2022-09-15T11:01:19.772575Z",
          "iopub.execute_input": "2022-09-15T11:01:19.774041Z",
          "iopub.status.idle": "2022-09-15T11:01:19.793825Z",
          "shell.execute_reply.started": "2022-09-15T11:01:19.773982Z",
          "shell.execute_reply": "2022-09-15T11:01:19.790162Z"
        },
        "trusted": true,
        "id": "qyxvQ-_eDXjj"
      },
      "execution_count": null,
      "outputs": []
    },
    {
      "cell_type": "code",
      "source": [
        "# to return the column labels\n",
        "df.columns"
      ],
      "metadata": {
        "execution": {
          "iopub.status.busy": "2022-09-15T11:01:19.800587Z",
          "iopub.execute_input": "2022-09-15T11:01:19.802144Z",
          "iopub.status.idle": "2022-09-15T11:01:19.811019Z",
          "shell.execute_reply.started": "2022-09-15T11:01:19.802083Z",
          "shell.execute_reply": "2022-09-15T11:01:19.809678Z"
        },
        "trusted": true,
        "id": "32OKqd0lDXjj"
      },
      "execution_count": null,
      "outputs": []
    },
    {
      "cell_type": "code",
      "source": [
        "# Column to list using Series.tolist()\n",
        "df.columns.tolist()"
      ],
      "metadata": {
        "execution": {
          "iopub.status.busy": "2022-09-15T11:01:19.812886Z",
          "iopub.execute_input": "2022-09-15T11:01:19.814213Z",
          "iopub.status.idle": "2022-09-15T11:01:19.82464Z",
          "shell.execute_reply.started": "2022-09-15T11:01:19.814158Z",
          "shell.execute_reply": "2022-09-15T11:01:19.823384Z"
        },
        "trusted": true,
        "id": "F_TdfUEuDXjk"
      },
      "execution_count": null,
      "outputs": []
    },
    {
      "cell_type": "code",
      "source": [
        "# Finding unique values in columns to determine if there is any missing values including (-,?...)\n",
        "for i in df.columns:\n",
        "    print(df[i].unique())"
      ],
      "metadata": {
        "execution": {
          "iopub.status.busy": "2022-09-15T11:01:19.826574Z",
          "iopub.execute_input": "2022-09-15T11:01:19.827462Z",
          "iopub.status.idle": "2022-09-15T11:01:19.84853Z",
          "shell.execute_reply.started": "2022-09-15T11:01:19.827405Z",
          "shell.execute_reply": "2022-09-15T11:01:19.846681Z"
        },
        "trusted": true,
        "id": "yDG5sS2LDXjk"
      },
      "execution_count": null,
      "outputs": []
    },
    {
      "cell_type": "code",
      "source": [
        "df.shape\n",
        "print(\"number of rows: \", df.shape)\n",
        "print(\"number of duplicate rows: \", df[df.duplicated()].shape)"
      ],
      "metadata": {
        "execution": {
          "iopub.status.busy": "2022-09-15T11:01:19.850511Z",
          "iopub.execute_input": "2022-09-15T11:01:19.851849Z",
          "iopub.status.idle": "2022-09-15T11:01:19.861536Z",
          "shell.execute_reply.started": "2022-09-15T11:01:19.851794Z",
          "shell.execute_reply": "2022-09-15T11:01:19.860135Z"
        },
        "trusted": true,
        "id": "CHMMcotgDXjk"
      },
      "execution_count": null,
      "outputs": []
    },
    {
      "cell_type": "code",
      "source": [
        "df[df.duplicated()]"
      ],
      "metadata": {
        "execution": {
          "iopub.status.busy": "2022-09-15T11:01:19.863182Z",
          "iopub.execute_input": "2022-09-15T11:01:19.863841Z",
          "iopub.status.idle": "2022-09-15T11:01:19.884992Z",
          "shell.execute_reply.started": "2022-09-15T11:01:19.863797Z",
          "shell.execute_reply": "2022-09-15T11:01:19.883554Z"
        },
        "trusted": true,
        "id": "WrM4SjNPDXjk"
      },
      "execution_count": null,
      "outputs": []
    },
    {
      "cell_type": "code",
      "source": [
        "df[(df['Car_Name'] == 'ertiga' ) & (df['Year'] == 2016)]"
      ],
      "metadata": {
        "execution": {
          "iopub.status.busy": "2022-09-15T11:01:19.886641Z",
          "iopub.execute_input": "2022-09-15T11:01:19.887282Z",
          "iopub.status.idle": "2022-09-15T11:01:19.90784Z",
          "shell.execute_reply.started": "2022-09-15T11:01:19.887242Z",
          "shell.execute_reply": "2022-09-15T11:01:19.906662Z"
        },
        "trusted": true,
        "id": "z8C7Ld1oDXjk"
      },
      "execution_count": null,
      "outputs": []
    },
    {
      "cell_type": "code",
      "source": [
        "df[(df['Car_Name'] == 'fortuner' ) & (df['Selling_Price'] == 23.00)]"
      ],
      "metadata": {
        "execution": {
          "iopub.status.busy": "2022-09-15T11:01:19.90946Z",
          "iopub.execute_input": "2022-09-15T11:01:19.910062Z",
          "iopub.status.idle": "2022-09-15T11:01:19.927895Z",
          "shell.execute_reply.started": "2022-09-15T11:01:19.910025Z",
          "shell.execute_reply": "2022-09-15T11:01:19.926852Z"
        },
        "trusted": true,
        "id": "44lMJ6erDXjl"
      },
      "execution_count": null,
      "outputs": []
    },
    {
      "cell_type": "code",
      "source": [
        "df = df.drop_duplicates()\n",
        "df.shape"
      ],
      "metadata": {
        "execution": {
          "iopub.status.busy": "2022-09-15T11:01:19.929282Z",
          "iopub.execute_input": "2022-09-15T11:01:19.929915Z",
          "iopub.status.idle": "2022-09-15T11:01:19.939374Z",
          "shell.execute_reply.started": "2022-09-15T11:01:19.92988Z",
          "shell.execute_reply": "2022-09-15T11:01:19.938141Z"
        },
        "trusted": true,
        "id": "vLuYEuR5DXjl"
      },
      "execution_count": null,
      "outputs": []
    },
    {
      "cell_type": "code",
      "source": [
        "df.reset_index(drop=True, inplace=True)"
      ],
      "metadata": {
        "execution": {
          "iopub.status.busy": "2022-09-15T11:01:19.940703Z",
          "iopub.execute_input": "2022-09-15T11:01:19.941204Z",
          "iopub.status.idle": "2022-09-15T11:01:19.946276Z",
          "shell.execute_reply.started": "2022-09-15T11:01:19.941171Z",
          "shell.execute_reply": "2022-09-15T11:01:19.945283Z"
        },
        "trusted": true,
        "id": "s8FFzOqBDXjl"
      },
      "execution_count": null,
      "outputs": []
    },
    {
      "cell_type": "code",
      "source": [
        "df"
      ],
      "metadata": {
        "execution": {
          "iopub.status.busy": "2022-09-15T11:01:19.947638Z",
          "iopub.execute_input": "2022-09-15T11:01:19.94821Z",
          "iopub.status.idle": "2022-09-15T11:01:19.973482Z",
          "shell.execute_reply.started": "2022-09-15T11:01:19.948175Z",
          "shell.execute_reply": "2022-09-15T11:01:19.972674Z"
        },
        "trusted": true,
        "id": "h486fdFWDXjl"
      },
      "execution_count": null,
      "outputs": []
    },
    {
      "cell_type": "code",
      "source": [
        "# T0 creat sets of Categorical Variables to analyize them\n",
        "cat_cols = ['Year', 'Fuel_Type','Seller_Type','Transmission', 'Owner']"
      ],
      "metadata": {
        "execution": {
          "iopub.status.busy": "2022-09-15T11:01:19.974693Z",
          "iopub.execute_input": "2022-09-15T11:01:19.975191Z",
          "iopub.status.idle": "2022-09-15T11:01:19.980031Z",
          "shell.execute_reply.started": "2022-09-15T11:01:19.975144Z",
          "shell.execute_reply": "2022-09-15T11:01:19.978525Z"
        },
        "trusted": true,
        "id": "eos4Z2qEDXjl"
      },
      "execution_count": null,
      "outputs": []
    },
    {
      "cell_type": "code",
      "source": [
        "plt.figure(figsize = [15,10])\n",
        "plt.suptitle('Categorical variables countplot\\n', fontsize=30)\n",
        "i=1\n",
        "for col in cat_cols:\n",
        "        plt.subplot(3,2,i)\n",
        "        ax=sns.countplot(x = df[col], data = df)\n",
        "        plt.title(f'{col} countplot\\n', fontdict={'size':25})\n",
        "        plt.xlabel(col, size=15)\n",
        "        plt.xticks(size=12, c='r', rotation = 30)\n",
        "        i+=1\n",
        "\n",
        "        # show count (+ annotate)\n",
        "        for rect in ax.patches:\n",
        "            ax.text (rect.get_x() + rect.get_width()  / 2,rect.get_height()+ 0.75,rect.get_height(),horizontalalignment='center', fontsize = 15)\n",
        "\n",
        "\n",
        "\n",
        "\n",
        "plt.tight_layout()\n",
        "plt.show()"
      ],
      "metadata": {
        "execution": {
          "iopub.status.busy": "2022-09-15T11:01:19.981726Z",
          "iopub.execute_input": "2022-09-15T11:01:19.983013Z",
          "iopub.status.idle": "2022-09-15T11:01:21.060788Z",
          "shell.execute_reply.started": "2022-09-15T11:01:19.982967Z",
          "shell.execute_reply": "2022-09-15T11:01:21.059503Z"
        },
        "trusted": true,
        "id": "SvEamYuqDXjl"
      },
      "execution_count": null,
      "outputs": []
    },
    {
      "cell_type": "code",
      "source": [
        "plt.figure(figsize = [15,10])\n",
        "plt.suptitle('Categorical variable analysis(Barplot)\\n', fontsize=30)\n",
        "i=1\n",
        "for col in cat_cols:\n",
        "        plt.subplot(3,2,i)\n",
        "        sns.barplot(x=df[col],y=df['Selling_Price'])\n",
        "        plt.title(f'{col} vs selling_price\\n', fontdict={'size':25})\n",
        "        plt.xlabel(col, size=15)\n",
        "        plt.xticks(size=12, c='r', rotation = 45)\n",
        "        i+=1\n",
        "\n",
        "\n",
        "plt.tight_layout()"
      ],
      "metadata": {
        "execution": {
          "iopub.status.busy": "2022-09-15T11:01:21.062137Z",
          "iopub.execute_input": "2022-09-15T11:01:21.062617Z",
          "iopub.status.idle": "2022-09-15T11:01:22.613887Z",
          "shell.execute_reply.started": "2022-09-15T11:01:21.062568Z",
          "shell.execute_reply": "2022-09-15T11:01:22.612477Z"
        },
        "trusted": true,
        "id": "UdbfP3cuDXjm"
      },
      "execution_count": null,
      "outputs": []
    },
    {
      "cell_type": "code",
      "source": [
        "Loc_order = df['Car_Name'].value_counts().index\n",
        "plt.figure(figsize=(20, 8))\n",
        "ax = sns.countplot(data=df, x='Car_Name', order=Loc_order)\n",
        "plt.title('Number of cars', color = 'red', fontsize = 20)\n",
        "plt.xlabel('Car_Name')\n",
        "plt.ylabel('counts')\n",
        "plt.xticks(rotation = 90)\n",
        "\n",
        "# show count (+ annotate)\n",
        "for rect in ax.patches:\n",
        "    ax.text (rect.get_x() + rect.get_width()  / 2,rect.get_height()+ 0.75,rect.get_height(),horizontalalignment='center', fontsize = 15)\n",
        "\n",
        "plt.show()"
      ],
      "metadata": {
        "execution": {
          "iopub.status.busy": "2022-09-15T11:01:22.615752Z",
          "iopub.execute_input": "2022-09-15T11:01:22.616239Z",
          "iopub.status.idle": "2022-09-15T11:01:24.619037Z",
          "shell.execute_reply.started": "2022-09-15T11:01:22.61618Z",
          "shell.execute_reply": "2022-09-15T11:01:24.617519Z"
        },
        "trusted": true,
        "id": "M6tkvLtnDXjm"
      },
      "execution_count": null,
      "outputs": []
    },
    {
      "cell_type": "code",
      "source": [
        "#percentage of car brands\n",
        "percent = df['Car_Name'].value_counts()*100/sum(df['Car_Name'].value_counts())\n",
        "\n",
        "# Top 10 car brands\n",
        "popular = percent.index[:10]\n",
        "\n",
        "# Plot\n",
        "plt.barh(popular, width=percent[:10])\n",
        "plt.title('Top 10 Car brands')\n",
        "plt.show()"
      ],
      "metadata": {
        "execution": {
          "iopub.status.busy": "2022-09-15T11:01:24.620983Z",
          "iopub.execute_input": "2022-09-15T11:01:24.622136Z",
          "iopub.status.idle": "2022-09-15T11:01:24.845736Z",
          "shell.execute_reply.started": "2022-09-15T11:01:24.622074Z",
          "shell.execute_reply": "2022-09-15T11:01:24.844384Z"
        },
        "trusted": true,
        "id": "bsJHMCfwDXjm"
      },
      "execution_count": null,
      "outputs": []
    },
    {
      "cell_type": "code",
      "source": [
        "plt.figure(figsize = [10,6])\n",
        "\n",
        "sns.distplot(df['Selling_Price'])\n",
        "plt.show()"
      ],
      "metadata": {
        "execution": {
          "iopub.status.busy": "2022-09-15T11:01:24.847478Z",
          "iopub.execute_input": "2022-09-15T11:01:24.848018Z",
          "iopub.status.idle": "2022-09-15T11:01:25.105094Z",
          "shell.execute_reply.started": "2022-09-15T11:01:24.847976Z",
          "shell.execute_reply": "2022-09-15T11:01:25.103821Z"
        },
        "trusted": true,
        "id": "rQ-nHvPPDXjn"
      },
      "execution_count": null,
      "outputs": []
    },
    {
      "cell_type": "code",
      "source": [
        "maxYear = df['Year'].max()\n",
        "maxYear"
      ],
      "metadata": {
        "execution": {
          "iopub.status.busy": "2022-09-15T11:01:25.109072Z",
          "iopub.execute_input": "2022-09-15T11:01:25.109828Z",
          "iopub.status.idle": "2022-09-15T11:01:25.117887Z",
          "shell.execute_reply.started": "2022-09-15T11:01:25.109785Z",
          "shell.execute_reply": "2022-09-15T11:01:25.116738Z"
        },
        "trusted": true,
        "id": "VKpcecJEDXjo"
      },
      "execution_count": null,
      "outputs": []
    },
    {
      "cell_type": "code",
      "source": [
        "Car_Age = []\n",
        "for i in df.Year:\n",
        "    age= 2019-i\n",
        "    Car_Age.append(age)\n",
        "Car_Age = pd.DataFrame([Car_Age]).T\n",
        "Car_Age = Car_Age.rename(columns={0: 'Car_Age'})\n",
        "Car_Age"
      ],
      "metadata": {
        "execution": {
          "iopub.status.busy": "2022-09-15T11:01:25.119709Z",
          "iopub.execute_input": "2022-09-15T11:01:25.120183Z",
          "iopub.status.idle": "2022-09-15T11:01:25.149418Z",
          "shell.execute_reply.started": "2022-09-15T11:01:25.120141Z",
          "shell.execute_reply": "2022-09-15T11:01:25.148115Z"
        },
        "trusted": true,
        "id": "1DxVrHMEDXjo"
      },
      "execution_count": null,
      "outputs": []
    },
    {
      "cell_type": "code",
      "source": [
        "df"
      ],
      "metadata": {
        "execution": {
          "iopub.status.busy": "2022-09-15T11:01:25.158679Z",
          "iopub.execute_input": "2022-09-15T11:01:25.159076Z",
          "iopub.status.idle": "2022-09-15T11:01:25.183575Z",
          "shell.execute_reply.started": "2022-09-15T11:01:25.159042Z",
          "shell.execute_reply": "2022-09-15T11:01:25.182362Z"
        },
        "trusted": true,
        "id": "SGN0vnsIDXjo"
      },
      "execution_count": null,
      "outputs": []
    },
    {
      "cell_type": "code",
      "source": [
        "# Using DataFrame.insert() to add a column\n",
        "df.insert(1, \"Car_Age\", Car_Age)\n",
        "df.drop(['Year'], axis=1 , inplace=True)"
      ],
      "metadata": {
        "execution": {
          "iopub.status.busy": "2022-09-15T11:01:25.184945Z",
          "iopub.execute_input": "2022-09-15T11:01:25.185468Z",
          "iopub.status.idle": "2022-09-15T11:01:25.1945Z",
          "shell.execute_reply.started": "2022-09-15T11:01:25.185427Z",
          "shell.execute_reply": "2022-09-15T11:01:25.193085Z"
        },
        "trusted": true,
        "id": "9c6qBWpmDXjp"
      },
      "execution_count": null,
      "outputs": []
    },
    {
      "cell_type": "code",
      "source": [
        "df"
      ],
      "metadata": {
        "execution": {
          "iopub.status.busy": "2022-09-15T11:01:25.196493Z",
          "iopub.execute_input": "2022-09-15T11:01:25.196968Z",
          "iopub.status.idle": "2022-09-15T11:01:25.222469Z",
          "shell.execute_reply.started": "2022-09-15T11:01:25.196922Z",
          "shell.execute_reply": "2022-09-15T11:01:25.221197Z"
        },
        "trusted": true,
        "id": "4CW-xRABDXjp"
      },
      "execution_count": null,
      "outputs": []
    },
    {
      "cell_type": "code",
      "source": [
        "# To change columns orders\n",
        "df = df.reindex(columns=['Car_Name','Kms_Driven', 'Fuel_Type','Seller_Type','Transmission', 'Owner', 'Car_Age',\n",
        "                         'Present_Price', 'Selling_Price'])\n",
        "\n",
        "df"
      ],
      "metadata": {
        "execution": {
          "iopub.status.busy": "2022-09-15T11:01:25.223796Z",
          "iopub.execute_input": "2022-09-15T11:01:25.224824Z",
          "iopub.status.idle": "2022-09-15T11:01:25.246953Z",
          "shell.execute_reply.started": "2022-09-15T11:01:25.224787Z",
          "shell.execute_reply": "2022-09-15T11:01:25.245977Z"
        },
        "trusted": true,
        "id": "JQE3iZD4DXjp"
      },
      "execution_count": null,
      "outputs": []
    },
    {
      "cell_type": "code",
      "source": [
        "df['Fuel_Type'].unique()"
      ],
      "metadata": {
        "execution": {
          "iopub.status.busy": "2022-09-15T11:01:25.248349Z",
          "iopub.execute_input": "2022-09-15T11:01:25.249519Z",
          "iopub.status.idle": "2022-09-15T11:01:25.260038Z",
          "shell.execute_reply.started": "2022-09-15T11:01:25.24948Z",
          "shell.execute_reply": "2022-09-15T11:01:25.259168Z"
        },
        "trusted": true,
        "id": "rnEmG-aYDXjq"
      },
      "execution_count": null,
      "outputs": []
    },
    {
      "cell_type": "code",
      "source": [
        "df['Seller_Type'].unique()"
      ],
      "metadata": {
        "execution": {
          "iopub.status.busy": "2022-09-15T11:01:25.261095Z",
          "iopub.execute_input": "2022-09-15T11:01:25.262083Z",
          "iopub.status.idle": "2022-09-15T11:01:25.273496Z",
          "shell.execute_reply.started": "2022-09-15T11:01:25.262037Z",
          "shell.execute_reply": "2022-09-15T11:01:25.272322Z"
        },
        "trusted": true,
        "id": "CSUiN-VnDXjq"
      },
      "execution_count": null,
      "outputs": []
    },
    {
      "cell_type": "code",
      "source": [
        "df['Transmission'].unique()"
      ],
      "metadata": {
        "execution": {
          "iopub.status.busy": "2022-09-15T11:01:25.275502Z",
          "iopub.execute_input": "2022-09-15T11:01:25.27598Z",
          "iopub.status.idle": "2022-09-15T11:01:25.285941Z",
          "shell.execute_reply.started": "2022-09-15T11:01:25.275938Z",
          "shell.execute_reply": "2022-09-15T11:01:25.284817Z"
        },
        "trusted": true,
        "id": "7jYW59YkDXjq"
      },
      "execution_count": null,
      "outputs": []
    },
    {
      "cell_type": "code",
      "source": [
        "#converting the categorical to numeric\n",
        "df[\"Fuel_Type\"] = df[\"Fuel_Type\"].map({\"Petrol\": 2, \"Diesel\": 3, \"CNG\": 4})\n",
        "df[\"Seller_Type\"] = df[\"Seller_Type\"].map({\"Dealer\": 2, \"Individual\": 3})\n",
        "df[\"Transmission\"] = df[\"Transmission\"].map({\"Manual\": 2, \"Automatic\": 3})\n",
        "df.head()"
      ],
      "metadata": {
        "execution": {
          "iopub.status.busy": "2022-09-15T11:01:25.289118Z",
          "iopub.execute_input": "2022-09-15T11:01:25.289858Z",
          "iopub.status.idle": "2022-09-15T11:01:25.310469Z",
          "shell.execute_reply.started": "2022-09-15T11:01:25.289811Z",
          "shell.execute_reply": "2022-09-15T11:01:25.309607Z"
        },
        "trusted": true,
        "id": "DVIDvZhdDXjq"
      },
      "execution_count": null,
      "outputs": []
    },
    {
      "cell_type": "code",
      "source": [
        "#count of each column variable\n",
        "from collections import Counter\n",
        "Counter(df['Fuel_Type'])"
      ],
      "metadata": {
        "execution": {
          "iopub.status.busy": "2022-09-15T11:01:25.31196Z",
          "iopub.execute_input": "2022-09-15T11:01:25.312598Z",
          "iopub.status.idle": "2022-09-15T11:01:25.319968Z",
          "shell.execute_reply.started": "2022-09-15T11:01:25.312563Z",
          "shell.execute_reply": "2022-09-15T11:01:25.319048Z"
        },
        "trusted": true,
        "id": "s2ONe6xbDXjq"
      },
      "execution_count": null,
      "outputs": []
    },
    {
      "cell_type": "code",
      "source": [
        "df['Seller_Type'].value_counts()"
      ],
      "metadata": {
        "execution": {
          "iopub.status.busy": "2022-09-15T11:01:25.321529Z",
          "iopub.execute_input": "2022-09-15T11:01:25.322321Z",
          "iopub.status.idle": "2022-09-15T11:01:25.333691Z",
          "shell.execute_reply.started": "2022-09-15T11:01:25.322269Z",
          "shell.execute_reply": "2022-09-15T11:01:25.33259Z"
        },
        "trusted": true,
        "id": "aKg91y-CDXjq"
      },
      "execution_count": null,
      "outputs": []
    },
    {
      "cell_type": "code",
      "source": [
        "Counter(df['Seller_Type'])"
      ],
      "metadata": {
        "execution": {
          "iopub.status.busy": "2022-09-15T11:01:25.335221Z",
          "iopub.execute_input": "2022-09-15T11:01:25.335972Z",
          "iopub.status.idle": "2022-09-15T11:01:25.347211Z",
          "shell.execute_reply.started": "2022-09-15T11:01:25.335935Z",
          "shell.execute_reply": "2022-09-15T11:01:25.346352Z"
        },
        "trusted": true,
        "id": "8YOkhQZQDXjr"
      },
      "execution_count": null,
      "outputs": []
    },
    {
      "cell_type": "code",
      "source": [
        "df['Transmission'].value_counts()"
      ],
      "metadata": {
        "execution": {
          "iopub.status.busy": "2022-09-15T11:01:25.34857Z",
          "iopub.execute_input": "2022-09-15T11:01:25.349267Z",
          "iopub.status.idle": "2022-09-15T11:01:25.361348Z",
          "shell.execute_reply.started": "2022-09-15T11:01:25.349222Z",
          "shell.execute_reply": "2022-09-15T11:01:25.360197Z"
        },
        "trusted": true,
        "id": "cN5SqLKWDXjr"
      },
      "execution_count": null,
      "outputs": []
    },
    {
      "cell_type": "code",
      "source": [
        "Counter(df['Transmission'])"
      ],
      "metadata": {
        "execution": {
          "iopub.status.busy": "2022-09-15T11:01:25.362702Z",
          "iopub.execute_input": "2022-09-15T11:01:25.363239Z",
          "iopub.status.idle": "2022-09-15T11:01:25.373932Z",
          "shell.execute_reply.started": "2022-09-15T11:01:25.363206Z",
          "shell.execute_reply": "2022-09-15T11:01:25.372707Z"
        },
        "trusted": true,
        "id": "I4BHCtcADXjr"
      },
      "execution_count": null,
      "outputs": []
    },
    {
      "cell_type": "code",
      "source": [
        "plt.figure(figsize=(6, 8))\n",
        "heatmap = sns.heatmap(df.corr()[['Selling_Price']].sort_values(by='Selling_Price', ascending=False), vmin=-1, vmax=1, annot=True, cmap='RdYlGn')\n",
        "heatmap.set_title('Features Correlating with Selling_Price', fontdict={'fontsize':18}, pad=16);"
      ],
      "metadata": {
        "execution": {
          "iopub.status.busy": "2022-09-15T11:01:25.375275Z",
          "iopub.execute_input": "2022-09-15T11:01:25.375953Z",
          "iopub.status.idle": "2022-09-15T11:01:25.702009Z",
          "shell.execute_reply.started": "2022-09-15T11:01:25.375917Z",
          "shell.execute_reply": "2022-09-15T11:01:25.700945Z"
        },
        "trusted": true,
        "id": "t1z0n0VNDXjr"
      },
      "execution_count": null,
      "outputs": []
    },
    {
      "cell_type": "code",
      "source": [
        "plt.figure(figsize=(10,8))\n",
        "#get correlations of each features in dataset\n",
        "sns.heatmap(df.corr(), annot=True, cmap='BrBG')"
      ],
      "metadata": {
        "execution": {
          "iopub.status.busy": "2022-09-15T11:01:25.703435Z",
          "iopub.execute_input": "2022-09-15T11:01:25.703792Z",
          "iopub.status.idle": "2022-09-15T11:01:26.394269Z",
          "shell.execute_reply.started": "2022-09-15T11:01:25.70376Z",
          "shell.execute_reply": "2022-09-15T11:01:26.392856Z"
        },
        "trusted": true,
        "id": "mtQxHqU3DXjr"
      },
      "execution_count": null,
      "outputs": []
    },
    {
      "cell_type": "code",
      "source": [
        "df.corr()"
      ],
      "metadata": {
        "execution": {
          "iopub.status.busy": "2022-09-15T11:01:26.395989Z",
          "iopub.execute_input": "2022-09-15T11:01:26.39655Z",
          "iopub.status.idle": "2022-09-15T11:01:26.417008Z",
          "shell.execute_reply.started": "2022-09-15T11:01:26.396507Z",
          "shell.execute_reply": "2022-09-15T11:01:26.415875Z"
        },
        "trusted": true,
        "id": "PPP-zMu_DXjs"
      },
      "execution_count": null,
      "outputs": []
    },
    {
      "cell_type": "code",
      "source": [
        "sns.pairplot(df)"
      ],
      "metadata": {
        "execution": {
          "iopub.status.busy": "2022-09-15T11:01:26.41872Z",
          "iopub.execute_input": "2022-09-15T11:01:26.419398Z",
          "iopub.status.idle": "2022-09-15T11:01:40.564373Z",
          "shell.execute_reply.started": "2022-09-15T11:01:26.419357Z",
          "shell.execute_reply": "2022-09-15T11:01:40.56297Z"
        },
        "trusted": true,
        "id": "T4aRdw47DXjs"
      },
      "execution_count": null,
      "outputs": []
    },
    {
      "cell_type": "code",
      "source": [
        "df"
      ],
      "metadata": {
        "execution": {
          "iopub.status.busy": "2022-09-15T11:01:40.566356Z",
          "iopub.execute_input": "2022-09-15T11:01:40.56715Z",
          "iopub.status.idle": "2022-09-15T11:01:40.591509Z",
          "shell.execute_reply.started": "2022-09-15T11:01:40.567099Z",
          "shell.execute_reply": "2022-09-15T11:01:40.590125Z"
        },
        "trusted": true,
        "id": "ZwKh3bgHDXjs"
      },
      "execution_count": null,
      "outputs": []
    },
    {
      "cell_type": "code",
      "source": [
        "df.describe()"
      ],
      "metadata": {
        "execution": {
          "iopub.status.busy": "2022-09-15T11:01:40.593364Z",
          "iopub.execute_input": "2022-09-15T11:01:40.593785Z",
          "iopub.status.idle": "2022-09-15T11:01:40.637241Z",
          "shell.execute_reply.started": "2022-09-15T11:01:40.593746Z",
          "shell.execute_reply": "2022-09-15T11:01:40.636008Z"
        },
        "trusted": true,
        "id": "3Wcyq3qFDXjt"
      },
      "execution_count": null,
      "outputs": []
    },
    {
      "cell_type": "code",
      "source": [
        "# T0 creat sets of Categorical Variables to analyize them\n",
        "num_cols = ['Kms_Driven', 'Car_Age','Present_Price','Selling_Price']"
      ],
      "metadata": {
        "execution": {
          "iopub.status.busy": "2022-09-15T11:01:40.638826Z",
          "iopub.execute_input": "2022-09-15T11:01:40.639228Z",
          "iopub.status.idle": "2022-09-15T11:01:40.645543Z",
          "shell.execute_reply.started": "2022-09-15T11:01:40.63919Z",
          "shell.execute_reply": "2022-09-15T11:01:40.644209Z"
        },
        "trusted": true,
        "id": "loozy5BGDXjt"
      },
      "execution_count": null,
      "outputs": []
    },
    {
      "cell_type": "code",
      "source": [
        "plt.figure(figsize = [20,10])\n",
        "plt.suptitle('Boxplot Analysis\\n', fontsize=30)\n",
        "i=1\n",
        "for col in num_cols:\n",
        "        plt.subplot(2,2,i)\n",
        "        sns.boxplot(x=df[col])\n",
        "        plt.title(f'{col} Boxplot\\n', fontdict={'size':25})\n",
        "        plt.xlabel(f'{col}\\n\\n', size=15)\n",
        "        plt.xticks(size=15, c='r', rotation = 0)\n",
        "        i+=1\n",
        "\n",
        "\n",
        "plt.tight_layout()"
      ],
      "metadata": {
        "execution": {
          "iopub.status.busy": "2022-09-15T11:01:40.647733Z",
          "iopub.execute_input": "2022-09-15T11:01:40.64845Z",
          "iopub.status.idle": "2022-09-15T11:01:41.340727Z",
          "shell.execute_reply.started": "2022-09-15T11:01:40.648399Z",
          "shell.execute_reply": "2022-09-15T11:01:41.339434Z"
        },
        "trusted": true,
        "id": "ZBYcvpWSDXjt"
      },
      "execution_count": null,
      "outputs": []
    },
    {
      "cell_type": "code",
      "source": [
        "df[df['Present_Price'] > 75]"
      ],
      "metadata": {
        "execution": {
          "iopub.status.busy": "2022-09-15T11:01:41.342277Z",
          "iopub.execute_input": "2022-09-15T11:01:41.3427Z",
          "iopub.status.idle": "2022-09-15T11:01:41.359504Z",
          "shell.execute_reply.started": "2022-09-15T11:01:41.342666Z",
          "shell.execute_reply": "2022-09-15T11:01:41.358078Z"
        },
        "trusted": true,
        "id": "pJtZZvGBDXjt"
      },
      "execution_count": null,
      "outputs": []
    },
    {
      "cell_type": "code",
      "source": [
        "df[df['Kms_Driven'] > 400000]"
      ],
      "metadata": {
        "execution": {
          "iopub.status.busy": "2022-09-15T11:01:41.361153Z",
          "iopub.execute_input": "2022-09-15T11:01:41.361689Z",
          "iopub.status.idle": "2022-09-15T11:01:41.380935Z",
          "shell.execute_reply.started": "2022-09-15T11:01:41.361649Z",
          "shell.execute_reply": "2022-09-15T11:01:41.379257Z"
        },
        "trusted": true,
        "id": "eC_mVXm8DXjt"
      },
      "execution_count": null,
      "outputs": []
    },
    {
      "cell_type": "code",
      "source": [
        "# To drop Car_Name column\n",
        "#del df[\"Car_Name\"]\n",
        "df.drop('Car_Name', axis=1, inplace=True)"
      ],
      "metadata": {
        "execution": {
          "iopub.status.busy": "2022-09-15T11:01:41.382507Z",
          "iopub.execute_input": "2022-09-15T11:01:41.383531Z",
          "iopub.status.idle": "2022-09-15T11:01:41.393745Z",
          "shell.execute_reply.started": "2022-09-15T11:01:41.38348Z",
          "shell.execute_reply": "2022-09-15T11:01:41.392404Z"
        },
        "trusted": true,
        "id": "GvTy4yNODXju"
      },
      "execution_count": null,
      "outputs": []
    },
    {
      "cell_type": "code",
      "source": [
        "df"
      ],
      "metadata": {
        "execution": {
          "iopub.status.busy": "2022-09-15T11:01:41.395414Z",
          "iopub.execute_input": "2022-09-15T11:01:41.395851Z",
          "iopub.status.idle": "2022-09-15T11:01:41.42004Z",
          "shell.execute_reply.started": "2022-09-15T11:01:41.395812Z",
          "shell.execute_reply": "2022-09-15T11:01:41.418783Z"
        },
        "trusted": true,
        "id": "Hqm9wT04DXju"
      },
      "execution_count": null,
      "outputs": []
    },
    {
      "cell_type": "markdown",
      "source": [
        "<font color='red'> **Price prediction:** <font>\n",
        "\n",
        "> **Car with these features:**\n",
        "  *   Present_Price = 11.23\n",
        "  *   Kms_Driven = 42000\n",
        "  *   Fuel_Type = Petrol\n",
        "  *   Seller_Type = Dealer\n",
        "  *   Transmission = Manual\n",
        "  *   Owner = 1\n",
        "  *   Age = 10\n",
        "  *   Price = ??"
      ],
      "metadata": {
        "id": "C2xEpLytDXju"
      }
    },
    {
      "cell_type": "code",
      "source": [
        "# sepereting target variable and features\n",
        "x = pd.DataFrame(df, columns = ['Kms_Driven', 'Fuel_Type', 'Seller_Type', 'Transmission', 'Owner',\n",
        "                                'Car_Age', 'Present_Price'])\n",
        "y = df['Selling_Price'].values.reshape(-1, 1)"
      ],
      "metadata": {
        "execution": {
          "iopub.status.busy": "2022-09-15T11:01:41.421862Z",
          "iopub.execute_input": "2022-09-15T11:01:41.422538Z",
          "iopub.status.idle": "2022-09-15T11:01:41.430128Z",
          "shell.execute_reply.started": "2022-09-15T11:01:41.422486Z",
          "shell.execute_reply": "2022-09-15T11:01:41.428953Z"
        },
        "trusted": true,
        "id": "qt_LWs8iDXju"
      },
      "execution_count": null,
      "outputs": []
    },
    {
      "cell_type": "code",
      "source": [
        "\n",
        "    # Splitting the dataset into the Training set and Test set\n",
        "    x_train, x_test, y_train, y_test = train_test_split(x, y, test_size = 0.2, random_state = 0)\n",
        "\n",
        "    print('<===================== Shape =======================>')\n",
        "    print(\"x_train\", x_train.shape)\n",
        "    print(\"x_test\", x_test.shape)\n",
        "    print(\"y_train\", y_train.shape)\n",
        "    print(\"y_test\", y_test.shape)\n",
        "\n",
        "    # Fitting Multiple Linear Regression to the Training set\n",
        "    regressor = LinearRegression()\n",
        "    regressor.fit(x_train, y_train)\n",
        "\n",
        "    # make predictions\n",
        "    y_pred = regressor.predict(x_test)\n",
        "\n",
        "\n",
        "    print('<=================== coefficient ==================>')\n",
        "    #Intercept:\n",
        "    print(regressor.intercept_)\n",
        "    #Slope:\n",
        "    print(regressor.coef_)\n",
        "\n",
        "\n",
        "    print('<==================== evaluation ===================>')\n",
        "    print('Mean Absolute Error: ', metrics.mean_absolute_error(y_test, y_pred))\n",
        "    print('Mean Squared Error: ', metrics.mean_squared_error(y_test, y_pred))\n",
        "    print('Root Mean Squared Error: ', np.sqrt (metrics.mean_squared_error(y_test, y_pred)))\n",
        "    print('R2 Score: ', metrics.r2_score(y_test, y_pred))\n",
        "    print('<========================== Evaluation Plot ============================>')\n",
        "\n",
        "    preds = pd.DataFrame({'y_pred': y_pred.flatten(), 'y_test':y_test.flatten()})\n",
        "    preds = preds.sort_values(by='y_test')\n",
        "    preds = preds.reset_index()\n",
        "\n",
        "    plt.figure(figsize=(15, 5))\n",
        "    plt.plot(preds['y_pred'], label='pred', marker='o')\n",
        "    plt.plot(preds['y_test'], label='actual', marker='o', c = 'r')\n",
        "    plt.legend()\n",
        "    plt.show()"
      ],
      "metadata": {
        "execution": {
          "iopub.status.busy": "2022-09-15T11:01:41.43151Z",
          "iopub.execute_input": "2022-09-15T11:01:41.431867Z",
          "iopub.status.idle": "2022-09-15T11:01:41.686459Z",
          "shell.execute_reply.started": "2022-09-15T11:01:41.431835Z",
          "shell.execute_reply": "2022-09-15T11:01:41.685188Z"
        },
        "trusted": true,
        "id": "XdfM9UXgDXjv"
      },
      "execution_count": null,
      "outputs": []
    },
    {
      "cell_type": "code",
      "source": [
        "Scaler = preprocessing.MinMaxScaler(feature_range=(0,1))\n",
        "Norm1 = Scaler.fit_transform(df)\n",
        "Norm1_df = pd.DataFrame (Norm1, columns = ['Kms_Driven', 'Fuel_Type', 'Seller_Type', 'Transmission', 'Owner',\n",
        "                                           'Car_Age', 'Present_Price', 'Selling_Price'])"
      ],
      "metadata": {
        "execution": {
          "iopub.status.busy": "2022-09-15T11:01:41.688242Z",
          "iopub.execute_input": "2022-09-15T11:01:41.689029Z",
          "iopub.status.idle": "2022-09-15T11:01:41.701002Z",
          "shell.execute_reply.started": "2022-09-15T11:01:41.68898Z",
          "shell.execute_reply": "2022-09-15T11:01:41.699792Z"
        },
        "trusted": true,
        "id": "Rv74v0jtDXjv"
      },
      "execution_count": null,
      "outputs": []
    },
    {
      "cell_type": "code",
      "source": [
        "Norm1_df"
      ],
      "metadata": {
        "execution": {
          "iopub.status.busy": "2022-09-15T11:01:41.702207Z",
          "iopub.execute_input": "2022-09-15T11:01:41.703051Z",
          "iopub.status.idle": "2022-09-15T11:01:41.731418Z",
          "shell.execute_reply.started": "2022-09-15T11:01:41.703012Z",
          "shell.execute_reply": "2022-09-15T11:01:41.730502Z"
        },
        "trusted": true,
        "id": "IrOPzZHNDXjv"
      },
      "execution_count": null,
      "outputs": []
    },
    {
      "cell_type": "code",
      "source": [
        "Norm1_df.describe()"
      ],
      "metadata": {
        "execution": {
          "iopub.status.busy": "2022-09-15T11:01:41.732696Z",
          "iopub.execute_input": "2022-09-15T11:01:41.733211Z",
          "iopub.status.idle": "2022-09-15T11:01:41.776176Z",
          "shell.execute_reply.started": "2022-09-15T11:01:41.73318Z",
          "shell.execute_reply": "2022-09-15T11:01:41.774973Z"
        },
        "trusted": true,
        "id": "UEpevAzKDXjv"
      },
      "execution_count": null,
      "outputs": []
    },
    {
      "cell_type": "code",
      "source": [
        "# sepereting target variable and features\n",
        "x = pd.DataFrame(Norm1_df, columns = ['Kms_Driven', 'Fuel_Type', 'Seller_Type', 'Transmission', 'Owner',\n",
        "                                      'Car_Age', 'Present_Price'])\n",
        "y = Norm1_df['Selling_Price'].values.reshape(-1, 1)"
      ],
      "metadata": {
        "execution": {
          "iopub.status.busy": "2022-09-15T11:01:41.779119Z",
          "iopub.execute_input": "2022-09-15T11:01:41.779507Z",
          "iopub.status.idle": "2022-09-15T11:01:41.786555Z",
          "shell.execute_reply.started": "2022-09-15T11:01:41.779473Z",
          "shell.execute_reply": "2022-09-15T11:01:41.78535Z"
        },
        "trusted": true,
        "id": "GLFbS3S9DXjv"
      },
      "execution_count": null,
      "outputs": []
    },
    {
      "cell_type": "code",
      "source": [
        "\n",
        "    # Splitting the dataset into the Training set and Test set\n",
        "    x_train, x_test, y_train, y_test = train_test_split(x, y, test_size = 0.2, random_state = 0)\n",
        "\n",
        "    print('<===================== Shape =======================>')\n",
        "    print(\"x_train\", x_train.shape)\n",
        "    print(\"x_test\", x_test.shape)\n",
        "    print(\"y_train\", y_train.shape)\n",
        "    print(\"y_test\", y_test.shape)\n",
        "\n",
        "    # Fitting Multiple Linear Regression to the Training set\n",
        "    regressor = LinearRegression()\n",
        "    regressor.fit(x_train, y_train)\n",
        "\n",
        "    # make predictions\n",
        "    y_pred = regressor.predict(x_test)\n",
        "\n",
        "\n",
        "    print('<=================== coefficient ==================>')\n",
        "    #Intercept:\n",
        "    print(regressor.intercept_)\n",
        "    #Slope:\n",
        "    print(regressor.coef_)\n",
        "\n",
        "    # evaluate predictions\n",
        "    print('<==================== evaluation ===================>')\n",
        "    print('Mean Absolute Error: ', metrics.mean_absolute_error(y_test, y_pred))\n",
        "    print('Mean Squared Error: ', metrics.mean_squared_error(y_test, y_pred))\n",
        "    print('Root Mean Squared Error: ', np.sqrt (metrics.mean_squared_error(y_test, y_pred)))\n",
        "    print('R2 Score: ', metrics.r2_score(y_test, y_pred))\n",
        "    print('<========================== Evaluation Plot ============================>')\n",
        "\n",
        "    preds = pd.DataFrame({'y_pred': y_pred.flatten(), 'y_test':y_test.flatten()})\n",
        "    preds = preds.sort_values(by='y_test')\n",
        "    preds = preds.reset_index()\n",
        "\n",
        "    plt.figure(figsize=(15, 5))\n",
        "    plt.plot(preds['y_pred'], label='pred', marker='o')\n",
        "    plt.plot(preds['y_test'], label='actual', marker='o', c = 'r')\n",
        "    plt.legend()\n",
        "    plt.show()"
      ],
      "metadata": {
        "execution": {
          "iopub.status.busy": "2022-09-15T11:01:41.788134Z",
          "iopub.execute_input": "2022-09-15T11:01:41.788622Z",
          "iopub.status.idle": "2022-09-15T11:01:42.026371Z",
          "shell.execute_reply.started": "2022-09-15T11:01:41.788578Z",
          "shell.execute_reply": "2022-09-15T11:01:42.025116Z"
        },
        "trusted": true,
        "id": "eUiI2Lo5DXjw"
      },
      "execution_count": null,
      "outputs": []
    },
    {
      "cell_type": "code",
      "source": [
        "\n",
        "    # Splitting the dataset into the Training set and Test set\n",
        "    x_train, x_test, y_train, y_test = train_test_split(x, y, test_size = 0.3, random_state = 0)\n",
        "\n",
        "    print('<===================== Shape =======================>')\n",
        "    print(\"x_train\", x_train.shape)\n",
        "    print(\"x_test\", x_test.shape)\n",
        "    print(\"y_train\", y_train.shape)\n",
        "    print(\"y_test\", y_test.shape)\n",
        "\n",
        "    # Fitting Multiple Linear Regression to the Training set\n",
        "    regressor = LinearRegression()\n",
        "    regressor.fit(x_train, y_train)\n",
        "\n",
        "    # make predictions\n",
        "    y_pred = regressor.predict(x_test)\n",
        "\n",
        "\n",
        "    print('<=================== coefficient ==================>')\n",
        "    #Intercept:\n",
        "    print(regressor.intercept_)\n",
        "    #Slope:\n",
        "    print(regressor.coef_)\n",
        "\n",
        "    # evaluate predictions\n",
        "    print('<==================== evaluation ===================>')\n",
        "    print('Mean Absolute Error: ', metrics.mean_absolute_error(y_test, y_pred))\n",
        "    print('Mean Squared Error: ', metrics.mean_squared_error(y_test, y_pred))\n",
        "    print('Root Mean Squared Error: ', np.sqrt (metrics.mean_squared_error(y_test, y_pred)))\n",
        "    print('R2 Score: ', metrics.r2_score(y_test, y_pred))\n",
        "    print('<========================== Evaluation Plot ============================>')\n",
        "\n",
        "    preds = pd.DataFrame({'y_pred': y_pred.flatten(), 'y_test':y_test.flatten()})\n",
        "    preds = preds.sort_values(by='y_test')\n",
        "    preds = preds.reset_index()\n",
        "\n",
        "    plt.figure(figsize=(15, 5))\n",
        "    plt.plot(preds['y_pred'], label='pred', marker='o')\n",
        "    plt.plot(preds['y_test'], label='actual', marker='o', c = 'r')\n",
        "    plt.legend()\n",
        "    plt.show()"
      ],
      "metadata": {
        "execution": {
          "iopub.status.busy": "2022-09-15T11:01:42.029872Z",
          "iopub.execute_input": "2022-09-15T11:01:42.030363Z",
          "iopub.status.idle": "2022-09-15T11:01:42.274759Z",
          "shell.execute_reply.started": "2022-09-15T11:01:42.030316Z",
          "shell.execute_reply": "2022-09-15T11:01:42.273597Z"
        },
        "trusted": true,
        "id": "SXfazim7DXjw"
      },
      "execution_count": null,
      "outputs": []
    },
    {
      "cell_type": "code",
      "source": [
        "# sepereting target variable and features\n",
        "x = pd.DataFrame(df, columns = ['Kms_Driven', 'Fuel_Type', 'Seller_Type', 'Transmission', 'Owner',\n",
        "                                'Car_Age', 'Present_Price'])\n",
        "y = df['Selling_Price'].values.reshape(-1, 1)"
      ],
      "metadata": {
        "execution": {
          "iopub.status.busy": "2022-09-15T11:01:42.276661Z",
          "iopub.execute_input": "2022-09-15T11:01:42.277012Z",
          "iopub.status.idle": "2022-09-15T11:01:42.283461Z",
          "shell.execute_reply.started": "2022-09-15T11:01:42.276983Z",
          "shell.execute_reply": "2022-09-15T11:01:42.282337Z"
        },
        "trusted": true,
        "id": "bmLRJGzrDXjw"
      },
      "execution_count": null,
      "outputs": []
    },
    {
      "cell_type": "code",
      "source": [
        "\n",
        "    # Splitting the dataset into the Training set and Test set\n",
        "    x_train, x_test, y_train, y_test = train_test_split(x, y, test_size = 0.3, random_state = 0)\n",
        "\n",
        "    print('<===================== Shape =======================>')\n",
        "    print(\"x_train\", x_train.shape)\n",
        "    print(\"x_test\", x_test.shape)\n",
        "    print(\"y_train\", y_train.shape)\n",
        "    print(\"y_test\", y_test.shape)\n",
        "\n",
        "    # Fitting Multiple Linear Regression to the Training set\n",
        "    regressor = LinearRegression()\n",
        "    regressor.fit(x_train, y_train)\n",
        "\n",
        "    # make predictions\n",
        "    y_pred = regressor.predict(x_test)\n",
        "\n",
        "\n",
        "    print('<=================== coefficient ==================>')\n",
        "    #Intercept:\n",
        "    print(regressor.intercept_)\n",
        "    #Slope:\n",
        "    print(regressor.coef_)\n",
        "\n",
        "    # evaluate predictions\n",
        "    print('<==================== evaluation ===================>')\n",
        "    print('Mean Absolute Error: ', metrics.mean_absolute_error(y_test, y_pred))\n",
        "    print('Mean Squared Error: ', metrics.mean_squared_error(y_test, y_pred))\n",
        "    print('Root Mean Squared Error: ', np.sqrt (metrics.mean_squared_error(y_test, y_pred)))\n",
        "    print('R2 Score: ', metrics.r2_score(y_test, y_pred))\n",
        "    print('<========================== Evaluation Plot ============================>')\n",
        "\n",
        "    preds = pd.DataFrame({'y_pred': y_pred.flatten(), 'y_test':y_test.flatten()})\n",
        "    preds = preds.sort_values(by='y_test')\n",
        "    preds = preds.reset_index()\n",
        "\n",
        "    plt.figure(figsize=(15, 5))\n",
        "    plt.plot(preds['y_pred'], label='pred', marker='o')\n",
        "    plt.plot(preds['y_test'], label='actual', marker='o', c = 'r')\n",
        "    plt.legend()\n",
        "    plt.show()"
      ],
      "metadata": {
        "execution": {
          "iopub.status.busy": "2022-09-15T11:01:42.285109Z",
          "iopub.execute_input": "2022-09-15T11:01:42.285449Z",
          "iopub.status.idle": "2022-09-15T11:01:42.532068Z",
          "shell.execute_reply.started": "2022-09-15T11:01:42.285419Z",
          "shell.execute_reply": "2022-09-15T11:01:42.530423Z"
        },
        "trusted": true,
        "id": "HgtPBLtJDXjw"
      },
      "execution_count": null,
      "outputs": []
    },
    {
      "cell_type": "code",
      "source": [
        "print('<============ Cross validation ================>')\n",
        "# create new model\n",
        "model_new = LinearRegression()\n",
        "# Cross validation\n",
        "KF = 10\n",
        "kfold_validation = KFold(KF)\n",
        "# evaluate model\n",
        "results = cross_val_score (model_new, x , y , cv=kfold_validation)\n",
        "print(results)\n",
        "print(np.mean(results))"
      ],
      "metadata": {
        "execution": {
          "iopub.status.busy": "2022-09-15T11:01:42.534437Z",
          "iopub.execute_input": "2022-09-15T11:01:42.535227Z",
          "iopub.status.idle": "2022-09-15T11:01:42.596641Z",
          "shell.execute_reply.started": "2022-09-15T11:01:42.535183Z",
          "shell.execute_reply": "2022-09-15T11:01:42.595392Z"
        },
        "trusted": true,
        "id": "34izBqi4DXjx"
      },
      "execution_count": null,
      "outputs": []
    },
    {
      "cell_type": "code",
      "source": [
        "# cross validation\n",
        "# Number of Folds\n",
        "KF = 10\n",
        "# F = fold/folds we want to delete\n",
        "F = 5, 6\n",
        "A =round (len(df)/KF)\n",
        "\n",
        "# we drop fold 5,6\n",
        "DF_ = df[~((df.index > 120) & (df.index <= 180))]\n",
        "DF_.reset_index(drop=True, inplace=True)\n",
        "DF_"
      ],
      "metadata": {
        "execution": {
          "iopub.status.busy": "2022-09-15T11:01:42.597795Z",
          "iopub.execute_input": "2022-09-15T11:01:42.598588Z",
          "iopub.status.idle": "2022-09-15T11:01:42.620706Z",
          "shell.execute_reply.started": "2022-09-15T11:01:42.598547Z",
          "shell.execute_reply": "2022-09-15T11:01:42.61907Z"
        },
        "trusted": true,
        "id": "3eHHClbPDXjx"
      },
      "execution_count": null,
      "outputs": []
    },
    {
      "cell_type": "code",
      "source": [
        "# sepereting target variable and features\n",
        "x = pd.DataFrame(DF_, columns = ['Kms_Driven', 'Fuel_Type', 'Seller_Type', 'Transmission', 'Owner',\n",
        "                                 'Car_Age', 'Present_Price'])\n",
        "y = DF_['Selling_Price'].values.reshape(-1, 1)"
      ],
      "metadata": {
        "execution": {
          "iopub.status.busy": "2022-09-15T11:01:42.622403Z",
          "iopub.execute_input": "2022-09-15T11:01:42.623498Z",
          "iopub.status.idle": "2022-09-15T11:01:42.630768Z",
          "shell.execute_reply.started": "2022-09-15T11:01:42.623455Z",
          "shell.execute_reply": "2022-09-15T11:01:42.629368Z"
        },
        "trusted": true,
        "id": "ApssoMwgDXjx"
      },
      "execution_count": null,
      "outputs": []
    },
    {
      "cell_type": "code",
      "source": [
        "\n",
        "    # Splitting the dataset into the Training set and Test set\n",
        "    x_train, x_test, y_train, y_test = train_test_split(x, y, test_size = 0.3, random_state = 0)\n",
        "\n",
        "    print('<===================== Shape =======================>')\n",
        "    print(\"x_train\", x_train.shape)\n",
        "    print(\"x_test\", x_test.shape)\n",
        "    print(\"y_train\", y_train.shape)\n",
        "    print(\"y_test\", y_test.shape)\n",
        "\n",
        "    # Fitting Multiple Linear Regression to the Training set\n",
        "    regressor = LinearRegression()\n",
        "    regressor.fit(x_train, y_train)\n",
        "\n",
        "    # make predictions\n",
        "    y_pred = regressor.predict(x_test)\n",
        "\n",
        "\n",
        "    print('<=================== coefficient ==================>')\n",
        "    #Intercept:\n",
        "    print(regressor.intercept_)\n",
        "    #Slope:\n",
        "    print(regressor.coef_)\n",
        "\n",
        "    # evaluate predictions\n",
        "    print('<==================== evaluation ===================>')\n",
        "    print('Mean Absolute Error: ', metrics.mean_absolute_error(y_test, y_pred))\n",
        "    print('Mean Squared Error: ', metrics.mean_squared_error(y_test, y_pred))\n",
        "    print('Root Mean Squared Error: ', np.sqrt (metrics.mean_squared_error(y_test, y_pred)))\n",
        "    print('R2 Score: ', metrics.r2_score(y_test, y_pred))\n",
        "    print('<========================== Evaluation Plot ============================>')\n",
        "\n",
        "    preds = pd.DataFrame({'y_pred': y_pred.flatten(), 'y_test':y_test.flatten()})\n",
        "    preds = preds.sort_values(by='y_test')\n",
        "    preds = preds.reset_index()\n",
        "\n",
        "    plt.figure(figsize=(15, 5))\n",
        "    plt.plot(preds['y_pred'], label='pred', marker='o')\n",
        "    plt.plot(preds['y_test'], label='actual', marker='o', c = 'r')\n",
        "    plt.legend()\n",
        "    plt.show()"
      ],
      "metadata": {
        "execution": {
          "iopub.status.busy": "2022-09-15T11:01:42.632459Z",
          "iopub.execute_input": "2022-09-15T11:01:42.633321Z",
          "iopub.status.idle": "2022-09-15T11:01:42.881265Z",
          "shell.execute_reply.started": "2022-09-15T11:01:42.633255Z",
          "shell.execute_reply": "2022-09-15T11:01:42.880103Z"
        },
        "trusted": true,
        "id": "H-L0h52sDXjx"
      },
      "execution_count": null,
      "outputs": []
    },
    {
      "cell_type": "code",
      "source": [
        "# sepereting target variable and features\n",
        "X = pd.DataFrame(df, columns = ['Kms_Driven', 'Fuel_Type', 'Seller_Type', 'Transmission', 'Owner',\n",
        "                                'Car_Age', 'Present_Price'])\n",
        "Y = df['Selling_Price'].values.reshape(-1, 1)"
      ],
      "metadata": {
        "execution": {
          "iopub.status.busy": "2022-09-15T11:01:42.882788Z",
          "iopub.execute_input": "2022-09-15T11:01:42.883244Z",
          "iopub.status.idle": "2022-09-15T11:01:42.890565Z",
          "shell.execute_reply.started": "2022-09-15T11:01:42.88321Z",
          "shell.execute_reply": "2022-09-15T11:01:42.889446Z"
        },
        "trusted": true,
        "id": "dEjHG-q9DXjy"
      },
      "execution_count": null,
      "outputs": []
    },
    {
      "cell_type": "code",
      "source": [
        "# To creat function to find a better Score throught dimention increasing\n",
        "def check (Dimension,testsize):\n",
        "    r2 = 0.8098343974158059\n",
        "    for column in X:\n",
        "        New_Col_Name = column + '^' + str(Dimension)\n",
        "        New_Col_Val = X[column]**Dimension\n",
        "        X.insert(0, New_Col_Name, New_Col_Val)\n",
        "        X_train, X_test, Y_train, Y_test = train_test_split(X,Y, test_size = testsize, random_state = 0)\n",
        "        New_Model = LinearRegression()\n",
        "        New_Model.fit(X_train, Y_train)\n",
        "        Y_pred = New_Model.predict(X_test)\n",
        "        r2_new = metrics.r2_score(Y_test, Y_pred)\n",
        "        if r2_new < r2:\n",
        "            X.drop([New_Col_Name], axis = 1, inplace = True)\n",
        "        else:\n",
        "            r2 = r2_new\n",
        "    print('<==================== evaluation: R2_score ===================>')\n",
        "    print(\"R2_score: \", r2)\n",
        "\n",
        "    print(\"========= Plot ===========\\n\")\n",
        "    preds = pd.DataFrame({'y_pred': Y_pred.flatten(), 'y_test':Y_test.flatten()})\n",
        "    preds = preds.sort_values(by='y_test')\n",
        "    preds = preds.reset_index()\n",
        "\n",
        "    plt.figure(figsize=(15, 5))\n",
        "    plt.plot(preds['y_pred'], label='pred', marker='o')\n",
        "    plt.plot(preds['y_test'], label='actual', marker='o', c = 'r')\n",
        "    plt.legend()\n",
        "    plt.show()"
      ],
      "metadata": {
        "execution": {
          "iopub.status.busy": "2022-09-15T11:01:42.891957Z",
          "iopub.execute_input": "2022-09-15T11:01:42.892314Z",
          "iopub.status.idle": "2022-09-15T11:01:42.904678Z",
          "shell.execute_reply.started": "2022-09-15T11:01:42.892266Z",
          "shell.execute_reply": "2022-09-15T11:01:42.903392Z"
        },
        "trusted": true,
        "id": "9mOoCXezDXjy"
      },
      "execution_count": null,
      "outputs": []
    },
    {
      "cell_type": "code",
      "source": [
        "check (2, 0.3)"
      ],
      "metadata": {
        "execution": {
          "iopub.status.busy": "2022-09-15T11:01:42.906874Z",
          "iopub.execute_input": "2022-09-15T11:01:42.907361Z",
          "iopub.status.idle": "2022-09-15T11:01:43.17162Z",
          "shell.execute_reply.started": "2022-09-15T11:01:42.907316Z",
          "shell.execute_reply": "2022-09-15T11:01:43.170354Z"
        },
        "trusted": true,
        "id": "McWVCsndDXjy"
      },
      "execution_count": null,
      "outputs": []
    },
    {
      "cell_type": "code",
      "source": [
        "#X['Kms_Driven^2'] = X['Kms_Driven']**2\n",
        "#X['Fuel_Type^2'] = X['Fuel_Type']**2\n",
        "#X['Owner^2'] = X['Owner']**2\n",
        "##X['Car_Age^2'] = ['Car_Age']**2\n",
        "#X['Present_Price^2'] = X['Present_Price']**2"
      ],
      "metadata": {
        "execution": {
          "iopub.status.busy": "2022-09-15T11:01:43.173414Z",
          "iopub.execute_input": "2022-09-15T11:01:43.173772Z",
          "iopub.status.idle": "2022-09-15T11:01:43.178856Z",
          "shell.execute_reply.started": "2022-09-15T11:01:43.173741Z",
          "shell.execute_reply": "2022-09-15T11:01:43.177508Z"
        },
        "trusted": true,
        "id": "vxHbVjoHDXjy"
      },
      "execution_count": null,
      "outputs": []
    },
    {
      "cell_type": "code",
      "source": [
        "X"
      ],
      "metadata": {
        "execution": {
          "iopub.status.busy": "2022-09-15T11:01:43.180699Z",
          "iopub.execute_input": "2022-09-15T11:01:43.181746Z",
          "iopub.status.idle": "2022-09-15T11:01:43.205901Z",
          "shell.execute_reply.started": "2022-09-15T11:01:43.181695Z",
          "shell.execute_reply": "2022-09-15T11:01:43.204452Z"
        },
        "trusted": true,
        "id": "JyHtlo91DXjy"
      },
      "execution_count": null,
      "outputs": []
    },
    {
      "cell_type": "code",
      "source": [
        "print('<============ Cross validation ================>')\n",
        "# create new model\n",
        "model_new = LinearRegression()\n",
        "# Cross validation\n",
        "KF = 10\n",
        "kfold_validation = KFold(KF)\n",
        "# evaluate model\n",
        "results = cross_val_score (model_new, X , Y , cv=kfold_validation)\n",
        "print(results)\n",
        "print(np.mean(results))"
      ],
      "metadata": {
        "execution": {
          "iopub.status.busy": "2022-09-15T11:01:43.2076Z",
          "iopub.execute_input": "2022-09-15T11:01:43.208219Z",
          "iopub.status.idle": "2022-09-15T11:01:43.278896Z",
          "shell.execute_reply.started": "2022-09-15T11:01:43.208171Z",
          "shell.execute_reply": "2022-09-15T11:01:43.277541Z"
        },
        "trusted": true,
        "id": "-QD4R4-7DXjz"
      },
      "execution_count": null,
      "outputs": []
    },
    {
      "cell_type": "code",
      "source": [
        "DF_D2 = X.copy()\n",
        "DF_D2['Selling_Price'] = df['Selling_Price']\n",
        "DF_D2"
      ],
      "metadata": {
        "execution": {
          "iopub.status.busy": "2022-09-15T11:01:43.280569Z",
          "iopub.execute_input": "2022-09-15T11:01:43.282698Z",
          "iopub.status.idle": "2022-09-15T11:01:43.310872Z",
          "shell.execute_reply.started": "2022-09-15T11:01:43.282637Z",
          "shell.execute_reply": "2022-09-15T11:01:43.309454Z"
        },
        "trusted": true,
        "id": "8jGNJq9rDXjz"
      },
      "execution_count": null,
      "outputs": []
    },
    {
      "cell_type": "code",
      "source": [
        "# cross validation\n",
        "# Number of Folds\n",
        "KF = 10\n",
        "# F = fold/folds we want to delete\n",
        "F = 5, 6\n",
        "A =round (len(DF_D2)/KF)\n",
        "\n",
        "# we drop fold 5,6\n",
        "DF_D2= DF_D2[~((DF_D2.index > 120) & (DF_D2.index <= 180))]\n",
        "DF_D2.reset_index(drop=True, inplace=True)\n",
        "DF_D2"
      ],
      "metadata": {
        "execution": {
          "iopub.status.busy": "2022-09-15T11:01:43.31277Z",
          "iopub.execute_input": "2022-09-15T11:01:43.314092Z",
          "iopub.status.idle": "2022-09-15T11:01:43.343089Z",
          "shell.execute_reply.started": "2022-09-15T11:01:43.314033Z",
          "shell.execute_reply": "2022-09-15T11:01:43.341902Z"
        },
        "trusted": true,
        "id": "kReVOWprDXjz"
      },
      "execution_count": null,
      "outputs": []
    },
    {
      "cell_type": "code",
      "source": [
        "# sepereting target variable and features\n",
        "X_ = pd.DataFrame(DF_D2, columns = ['Kms_Driven', 'Fuel_Type', 'Seller_Type', 'Transmission', 'Owner',\n",
        "                                    'Car_Age', 'Present_Price', 'Car_Age^2','Owner^2','Fuel_Type^2'])\n",
        "Y_ = DF_D2['Selling_Price'].values.reshape(-1, 1)"
      ],
      "metadata": {
        "execution": {
          "iopub.status.busy": "2022-09-15T11:01:43.344499Z",
          "iopub.execute_input": "2022-09-15T11:01:43.345524Z",
          "iopub.status.idle": "2022-09-15T11:01:43.352102Z",
          "shell.execute_reply.started": "2022-09-15T11:01:43.345482Z",
          "shell.execute_reply": "2022-09-15T11:01:43.351133Z"
        },
        "trusted": true,
        "id": "4QGaTI1JDXjz"
      },
      "execution_count": null,
      "outputs": []
    },
    {
      "cell_type": "code",
      "source": [
        "\n",
        "    # Splitting the dataset into the Training set and Test set\n",
        "    x_train, x_test, y_train, y_test = train_test_split(X_, Y_, test_size = 0.3, random_state = 0)\n",
        "\n",
        "    print('<===================== Shape =======================>')\n",
        "    print(\"x_train\", x_train.shape)\n",
        "    print(\"x_test\", x_test.shape)\n",
        "    print(\"y_train\", y_train.shape)\n",
        "    print(\"y_test\", y_test.shape)\n",
        "\n",
        "    # Fitting Multiple Linear Regression to the Training set\n",
        "    regressor = LinearRegression()\n",
        "    regressor.fit(x_train, y_train)\n",
        "\n",
        "    # make predictions\n",
        "    y_pred = regressor.predict(x_test)\n",
        "\n",
        "\n",
        "    print('<=================== coefficient ==================>')\n",
        "    #Intercept:\n",
        "    print(regressor.intercept_)\n",
        "    #Slope:\n",
        "    print(regressor.coef_)\n",
        "\n",
        "    # evaluate predictions\n",
        "    print('<==================== evaluation ===================>')\n",
        "    print('Mean Absolute Error: ', metrics.mean_absolute_error(y_test, y_pred))\n",
        "    print('Mean Squared Error: ', metrics.mean_squared_error(y_test, y_pred))\n",
        "    print('Root Mean Squared Error: ', np.sqrt (metrics.mean_squared_error(y_test, y_pred)))\n",
        "    print('R2 Score: ', metrics.r2_score(y_test, y_pred))\n",
        "    print('<========================== Evaluation Plot ============================>')\n",
        "\n",
        "    preds = pd.DataFrame({'y_pred': y_pred.flatten(), 'y_test':y_test.flatten()})\n",
        "    preds = preds.sort_values(by='y_test')\n",
        "    preds = preds.reset_index()\n",
        "\n",
        "    plt.figure(figsize=(15, 5))\n",
        "    plt.plot(preds['y_pred'], label='pred', marker='o')\n",
        "    plt.plot(preds['y_test'], label='actual', marker='o', c = 'r')\n",
        "    plt.legend()\n",
        "    plt.show()"
      ],
      "metadata": {
        "execution": {
          "iopub.status.busy": "2022-09-15T11:01:43.353782Z",
          "iopub.execute_input": "2022-09-15T11:01:43.354371Z",
          "iopub.status.idle": "2022-09-15T11:01:43.606971Z",
          "shell.execute_reply.started": "2022-09-15T11:01:43.354335Z",
          "shell.execute_reply": "2022-09-15T11:01:43.605712Z"
        },
        "trusted": true,
        "id": "nhEYu3FbDXjz"
      },
      "execution_count": null,
      "outputs": []
    },
    {
      "cell_type": "code",
      "source": [
        "X['pres_kms'] = X[\"Present_Price\"] * X[\"Kms_Driven\"]\n",
        "X['pres_kms2'] = X[\"Present_Price\"] * (X['Kms_Driven']**2)\n",
        "X['pres_fuel'] = X[\"Present_Price\"] * X[\"Fuel_Type\"]\n",
        "X['pres_fuel2'] = X[\"Present_Price\"] * (X['Fuel_Type']**2)\n",
        "X['pres2_kms'] = (X['Present_Price']**2) * X[\"Kms_Driven\"]\n",
        "X['pres2_kms2'] = (X['Present_Price']**2) * (X['Kms_Driven']**2)\n",
        "X['pres2_fuel'] = (X['Present_Price']**2) * X[\"Fuel_Type\"]\n",
        "X['pres2_fuel2'] = (X['Present_Price']**2) * (X['Fuel_Type']**2)"
      ],
      "metadata": {
        "execution": {
          "iopub.status.busy": "2022-09-15T11:01:43.608652Z",
          "iopub.execute_input": "2022-09-15T11:01:43.609032Z",
          "iopub.status.idle": "2022-09-15T11:01:43.625472Z",
          "shell.execute_reply.started": "2022-09-15T11:01:43.609Z",
          "shell.execute_reply": "2022-09-15T11:01:43.624384Z"
        },
        "trusted": true,
        "id": "pO3mVHJnDXj0"
      },
      "execution_count": null,
      "outputs": []
    },
    {
      "cell_type": "code",
      "source": [
        "X"
      ],
      "metadata": {
        "execution": {
          "iopub.status.busy": "2022-09-15T11:01:43.627064Z",
          "iopub.execute_input": "2022-09-15T11:01:43.62776Z",
          "iopub.status.idle": "2022-09-15T11:01:43.664328Z",
          "shell.execute_reply.started": "2022-09-15T11:01:43.627717Z",
          "shell.execute_reply": "2022-09-15T11:01:43.663024Z"
        },
        "trusted": true,
        "id": "VxcLwhtSDXj0"
      },
      "execution_count": null,
      "outputs": []
    },
    {
      "cell_type": "code",
      "source": [
        "\n",
        "    # Splitting the dataset into the Training set and Test set\n",
        "    x_train, x_test, y_train, y_test = train_test_split(X, Y, test_size = 0.3, random_state = 0)\n",
        "\n",
        "    print('<===================== Shape =======================>')\n",
        "    print(\"x_train\", x_train.shape)\n",
        "    print(\"x_test\", x_test.shape)\n",
        "    print(\"y_train\", y_train.shape)\n",
        "    print(\"y_test\", y_test.shape)\n",
        "\n",
        "    # Fitting Multiple Linear Regression to the Training set\n",
        "    regressor = LinearRegression()\n",
        "    regressor.fit(x_train, y_train)\n",
        "\n",
        "    # make predictions\n",
        "    y_pred = regressor.predict(x_test)\n",
        "\n",
        "\n",
        "    print('<=================== coefficient ==================>')\n",
        "    #Intercept:\n",
        "    print(regressor.intercept_)\n",
        "    #Slope:\n",
        "    print(regressor.coef_)\n",
        "\n",
        "    # evaluate predictions\n",
        "    print('<==================== evaluation ===================>')\n",
        "    print('Mean Absolute Error: ', metrics.mean_absolute_error(y_test, y_pred))\n",
        "    print('Mean Squared Error: ', metrics.mean_squared_error(y_test, y_pred))\n",
        "    print('Root Mean Squared Error: ', np.sqrt (metrics.mean_squared_error(y_test, y_pred)))\n",
        "    print('R2 Score: ', metrics.r2_score(y_test, y_pred))\n",
        "    print('<========================== Evaluation Plot ============================>')\n",
        "\n",
        "    preds = pd.DataFrame({'y_pred': y_pred.flatten(), 'y_test':y_test.flatten()})\n",
        "    preds = preds.sort_values(by='y_test')\n",
        "    preds = preds.reset_index()\n",
        "\n",
        "    plt.figure(figsize=(15, 5))\n",
        "    plt.plot(preds['y_pred'], label='pred', marker='o')\n",
        "    plt.plot(preds['y_test'], label='actual', marker='o', c = 'r')\n",
        "    plt.legend()\n",
        "    plt.show()"
      ],
      "metadata": {
        "execution": {
          "iopub.status.busy": "2022-09-15T11:01:43.666344Z",
          "iopub.execute_input": "2022-09-15T11:01:43.667224Z",
          "iopub.status.idle": "2022-09-15T11:01:43.893775Z",
          "shell.execute_reply.started": "2022-09-15T11:01:43.667162Z",
          "shell.execute_reply": "2022-09-15T11:01:43.892625Z"
        },
        "trusted": true,
        "id": "1v6d8qGwDXj0"
      },
      "execution_count": null,
      "outputs": []
    },
    {
      "cell_type": "code",
      "source": [
        "DF_D3 = X.copy()\n",
        "DF_D3['Selling_Price'] = df['Selling_Price']\n",
        "DF_D3"
      ],
      "metadata": {
        "execution": {
          "iopub.status.busy": "2022-09-15T11:01:43.895473Z",
          "iopub.execute_input": "2022-09-15T11:01:43.896198Z",
          "iopub.status.idle": "2022-09-15T11:01:43.929707Z",
          "shell.execute_reply.started": "2022-09-15T11:01:43.896154Z",
          "shell.execute_reply": "2022-09-15T11:01:43.928631Z"
        },
        "trusted": true,
        "id": "zLUSWTodDXj0"
      },
      "execution_count": null,
      "outputs": []
    },
    {
      "cell_type": "code",
      "source": [
        "Present_Price = 11.23\n",
        "Kms_Driven = 42000\n",
        "Fuel_Type = 2 #petrol\n",
        "Seller_Type = 2 #Dealer\n",
        "Transmission = 2 #manual\n",
        "Owner = 1\n",
        "Car_Age = 10\n",
        "Selling_Price = 5"
      ],
      "metadata": {
        "execution": {
          "iopub.status.busy": "2022-09-15T11:01:43.93143Z",
          "iopub.execute_input": "2022-09-15T11:01:43.932196Z",
          "iopub.status.idle": "2022-09-15T11:01:43.938286Z",
          "shell.execute_reply.started": "2022-09-15T11:01:43.932156Z",
          "shell.execute_reply": "2022-09-15T11:01:43.937306Z"
        },
        "trusted": true,
        "id": "9xIGvz-jDXj0"
      },
      "execution_count": null,
      "outputs": []
    },
    {
      "cell_type": "code",
      "source": [
        "Model_input = pd.DataFrame({ \"Kms_Driven\":[Kms_Driven],\n",
        "                             \"Fuel_Type\":[Fuel_Type],\n",
        "                             \"Seller_Type\":[Seller_Type],\n",
        "                             \"Transmission\":[Transmission],\n",
        "                             \"Owner\":[Owner],\n",
        "                             \"Car_Age\":[Car_Age],\n",
        "                             \"Present_Price\":[Present_Price],\n",
        "                             \"Selling_Price\": [Selling_Price]})"
      ],
      "metadata": {
        "execution": {
          "iopub.status.busy": "2022-09-15T11:01:43.950974Z",
          "iopub.execute_input": "2022-09-15T11:01:43.951772Z",
          "iopub.status.idle": "2022-09-15T11:01:43.958197Z",
          "shell.execute_reply.started": "2022-09-15T11:01:43.951732Z",
          "shell.execute_reply": "2022-09-15T11:01:43.957366Z"
        },
        "trusted": true,
        "id": "oyx8qWy1DXj0"
      },
      "execution_count": null,
      "outputs": []
    },
    {
      "cell_type": "code",
      "source": [
        "Model_input"
      ],
      "metadata": {
        "execution": {
          "iopub.status.busy": "2022-09-15T11:01:43.959928Z",
          "iopub.execute_input": "2022-09-15T11:01:43.960443Z",
          "iopub.status.idle": "2022-09-15T11:01:43.977787Z",
          "shell.execute_reply.started": "2022-09-15T11:01:43.960403Z",
          "shell.execute_reply": "2022-09-15T11:01:43.976598Z"
        },
        "trusted": true,
        "id": "hpSXLL_ZDXj0"
      },
      "execution_count": null,
      "outputs": []
    },
    {
      "cell_type": "code",
      "source": [
        "#Car_Age^2\tOwner^2\tSeller_Type^2\tFuel_Type^2\t # owner چون صفر داشت استفاده نکردیم\n",
        "\n",
        "Model_input['Car_Age^2'] = Model_input['Car_Age']**2\n",
        "Model_input['Owner^2'] = Model_input['Owner']**2\n",
        "Model_input['Seller_Type^2'] = Model_input['Seller_Type']**2\n",
        "Model_input['Fuel_Type^2'] = Model_input['Fuel_Type']**2\n",
        "Model_input['pres_kms'] = Model_input[\"Present_Price\"] * Model_input[\"Kms_Driven\"]\n",
        "Model_input['pres_kms2'] = Model_input[\"Present_Price\"] * (Model_input['Kms_Driven']**2)\n",
        "Model_input['pres_fuel'] = Model_input[\"Present_Price\"] * Model_input[\"Fuel_Type\"]\n",
        "Model_input['pres_fuel2'] = Model_input[\"Present_Price\"] * (Model_input['Fuel_Type']**2)\n",
        "Model_input['pres2_kms'] = (Model_input['Present_Price']**2) * Model_input[\"Kms_Driven\"]\n",
        "Model_input['pres2_kms2'] = (Model_input['Present_Price']**2) * (Model_input['Kms_Driven']**2)\n",
        "Model_input['pres2_fuel'] = (Model_input['Present_Price']**2) * Model_input[\"Fuel_Type\"]\n",
        "Model_input['pres2_fuel2'] = (Model_input['Present_Price']**2) * (Model_input['Fuel_Type']**2)"
      ],
      "metadata": {
        "execution": {
          "iopub.status.busy": "2022-09-15T11:01:43.979602Z",
          "iopub.execute_input": "2022-09-15T11:01:43.980244Z",
          "iopub.status.idle": "2022-09-15T11:01:43.997975Z",
          "shell.execute_reply.started": "2022-09-15T11:01:43.98021Z",
          "shell.execute_reply": "2022-09-15T11:01:43.996877Z"
        },
        "trusted": true,
        "id": "mn9CSMDuDXj1"
      },
      "execution_count": null,
      "outputs": []
    },
    {
      "cell_type": "code",
      "source": [
        "Model_input"
      ],
      "metadata": {
        "execution": {
          "iopub.status.busy": "2022-09-15T11:01:43.999412Z",
          "iopub.execute_input": "2022-09-15T11:01:43.999795Z",
          "iopub.status.idle": "2022-09-15T11:01:44.028135Z",
          "shell.execute_reply.started": "2022-09-15T11:01:43.999762Z",
          "shell.execute_reply": "2022-09-15T11:01:44.027104Z"
        },
        "trusted": true,
        "id": "p6lynieODXj1"
      },
      "execution_count": null,
      "outputs": []
    },
    {
      "cell_type": "code",
      "source": [
        "Finall_data = DF_D3.append(Model_input)\n",
        "Finall_data"
      ],
      "metadata": {
        "execution": {
          "iopub.status.busy": "2022-09-15T11:01:44.029546Z",
          "iopub.execute_input": "2022-09-15T11:01:44.030497Z",
          "iopub.status.idle": "2022-09-15T11:01:44.066465Z",
          "shell.execute_reply.started": "2022-09-15T11:01:44.03046Z",
          "shell.execute_reply": "2022-09-15T11:01:44.065196Z"
        },
        "trusted": true,
        "id": "GvIR_kBfDXj1"
      },
      "execution_count": null,
      "outputs": []
    },
    {
      "cell_type": "code",
      "source": [
        "X = Finall_data.drop([\"Selling_Price\"], axis=1)[:299]\n",
        "Y = Finall_data[[\"Selling_Price\"]][:299]\n",
        "X_Finall = Finall_data.drop([\"Selling_Price\"], axis =1)[299:]  #X_test\n",
        "\n",
        "regressor = LinearRegression()\n",
        "regressor.fit(X,Y)\n",
        "Y_pred = regressor.predict(X_Finall)\n",
        "Y_pred"
      ],
      "metadata": {
        "execution": {
          "iopub.status.busy": "2022-09-15T11:01:44.067844Z",
          "iopub.execute_input": "2022-09-15T11:01:44.068179Z",
          "iopub.status.idle": "2022-09-15T11:01:44.086402Z",
          "shell.execute_reply.started": "2022-09-15T11:01:44.06815Z",
          "shell.execute_reply": "2022-09-15T11:01:44.085458Z"
        },
        "trusted": true,
        "id": "vmmoOxkHDXj1"
      },
      "execution_count": null,
      "outputs": []
    }
  ]
}